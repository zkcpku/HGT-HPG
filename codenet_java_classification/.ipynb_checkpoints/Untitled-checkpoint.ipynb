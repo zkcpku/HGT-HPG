{
 "cells": [
  {
   "cell_type": "code",
   "execution_count": 11,
   "id": "8ea0163b",
   "metadata": {},
   "outputs": [],
   "source": [
    "import json\n",
    "import pickle"
   ]
  },
  {
   "cell_type": "code",
   "execution_count": 20,
   "id": "586286b3",
   "metadata": {},
   "outputs": [
    {
     "data": {
      "text/plain": [
       "['testset.json', 'trainset.json', 'devset.json', 'error_msg.json']"
      ]
     },
     "execution_count": 20,
     "metadata": {},
     "output_type": "execute_result"
    }
   ],
   "source": [
    "import os\n",
    "root_path = '/home/zhangkechi/workspace/HGT-DGL/data/codenet/java/no_share_subtoken/step2/'\n",
    "os.listdir(root_path)"
   ]
  },
  {
   "cell_type": "code",
   "execution_count": 21,
   "id": "39cef018",
   "metadata": {},
   "outputs": [
    {
     "data": {
      "text/plain": [
       "['/home/zhangkechi/workspace/HGT-DGL/data/codenet/java/no_share_subtoken/step2/testset.json',\n",
       " '/home/zhangkechi/workspace/HGT-DGL/data/codenet/java/no_share_subtoken/step2/trainset.json',\n",
       " '/home/zhangkechi/workspace/HGT-DGL/data/codenet/java/no_share_subtoken/step2/devset.json',\n",
       " '/home/zhangkechi/workspace/HGT-DGL/data/codenet/java/no_share_subtoken/step2/error_msg.json']"
      ]
     },
     "execution_count": 21,
     "metadata": {},
     "output_type": "execute_result"
    }
   ],
   "source": [
    "all_path = os.listdir(root_path)\n",
    "all_path = [os.path.join(root_path, e) for e in all_path]\n",
    "all_path"
   ]
  },
  {
   "cell_type": "code",
   "execution_count": 22,
   "id": "12f91b8a",
   "metadata": {},
   "outputs": [],
   "source": [
    "with open(all_path[0],'r') as f:\n",
    "    tmp_data = json.load(f)"
   ]
  },
  {
   "cell_type": "code",
   "execution_count": 23,
   "id": "73b37420",
   "metadata": {},
   "outputs": [
    {
     "name": "stdout",
     "output_type": "stream",
     "text": [
      "/home/zhangkechi/workspace/HGT-DGL/data/codenet/java/no_share_subtoken/step2/testset.json \t 14999\n",
      "/home/zhangkechi/workspace/HGT-DGL/data/codenet/java/no_share_subtoken/step2/trainset.json \t 44998\n",
      "/home/zhangkechi/workspace/HGT-DGL/data/codenet/java/no_share_subtoken/step2/devset.json \t 15000\n",
      "/home/zhangkechi/workspace/HGT-DGL/data/codenet/java/no_share_subtoken/step2/error_msg.json \t 3\n"
     ]
    }
   ],
   "source": [
    "for each_f in all_path:\n",
    "    with open(each_f,'r') as f:\n",
    "        tmp_data = json.load(f)\n",
    "    print(each_f,'\\t',len(tmp_data))"
   ]
  },
  {
   "cell_type": "code",
   "execution_count": 40,
   "id": "caf62128",
   "metadata": {},
   "outputs": [
    {
     "name": "stdout",
     "output_type": "stream",
     "text": [
      "['/home/zhangkechi/workspace/HGT-DGL/data/codenet/java/no_share_subtoken/step2/trainset.json']\n"
     ]
    }
   ],
   "source": [
    "all_path = [e for e in all_path if 'error' not in e and 'train' in e]\n",
    "print(all_path)\n",
    "for each_f in all_path:\n",
    "    with open(each_f,'r') as f:\n",
    "        tmp_data = json.load(f)\n",
    "    break"
   ]
  },
  {
   "cell_type": "code",
   "execution_count": 25,
   "id": "20e07246",
   "metadata": {},
   "outputs": [
    {
     "data": {
      "text/plain": [
       "14999"
      ]
     },
     "execution_count": 25,
     "metadata": {},
     "output_type": "execute_result"
    }
   ],
   "source": []
  },
  {
   "cell_type": "code",
   "execution_count": 39,
   "id": "8b41bdc5",
   "metadata": {},
   "outputs": [],
   "source": [
    "def process_one_data(one_data):\n",
    "    node_type_dict = {}\n",
    "    all_node_info = json.loads(one_data[1])[0]['all_node']\n",
    "    all_edge_info = json.loads(one_data[1])[1]\n",
    "    node_num = len(all_node_info)\n",
    "    for each_node in all_node_info:\n",
    "        if each_node['type'] not in node_type_dict:\n",
    "            node_type_dict[each_node['type']] = 0\n",
    "        node_type_dict[each_node['type']] += 1\n",
    "    \n",
    "    edge_type_dict = {}\n",
    "    for each_edge in all_edge_info:\n",
    "        k = each_edge[0][1]\n",
    "        if k not in edge_type_dict:\n",
    "            edge_type_dict[k] = 0\n",
    "        edge_type_dict[k] += len(each_edge[1][0])\n",
    "        \n",
    "    \n",
    "    return node_num, node_type_dict, edge_type_dict"
   ]
  },
  {
   "cell_type": "code",
   "execution_count": 43,
   "id": "095503fb",
   "metadata": {},
   "outputs": [
    {
     "name": "stderr",
     "output_type": "stream",
     "text": [
      "100%|█████████████████████████████████████████████████████████████████████████████████████████| 44998/44998 [01:53<00:00, 396.71it/s]\n"
     ]
    }
   ],
   "source": [
    "from tqdm import tqdm\n",
    "all_rst = [process_one_data(e) for e in tqdm(tmp_data)]"
   ]
  },
  {
   "cell_type": "code",
   "execution_count": 56,
   "id": "6db13ba4",
   "metadata": {},
   "outputs": [
    {
     "name": "stderr",
     "output_type": "stream",
     "text": [
      "100%|███████████████████████████████████████████████████████████████████████████████████████| 44998/44998 [00:00<00:00, 50872.38it/s]\n"
     ]
    }
   ],
   "source": [
    "all_node_type_dict = {}\n",
    "for each_rst in tqdm(all_rst):\n",
    "    each_node = each_rst[-2]\n",
    "    for k in each_node:\n",
    "        if k not in all_node_type_dict:\n",
    "            all_node_type_dict[k] = 0\n",
    "        all_node_type_dict[k] += each_node[k]"
   ]
  },
  {
   "cell_type": "code",
   "execution_count": 57,
   "id": "64bc12b3",
   "metadata": {},
   "outputs": [
    {
     "data": {
      "text/plain": [
       "279.84141517400775"
      ]
     },
     "execution_count": 57,
     "metadata": {},
     "output_type": "execute_result"
    }
   ],
   "source": [
    "sum([e[1] for e in all_node_type_dict.items()]) / len(all_rst)"
   ]
  },
  {
   "cell_type": "code",
   "execution_count": null,
   "id": "b4788b23",
   "metadata": {},
   "outputs": [],
   "source": []
  },
  {
   "cell_type": "code",
   "execution_count": 51,
   "id": "90512d78",
   "metadata": {},
   "outputs": [
    {
     "name": "stderr",
     "output_type": "stream",
     "text": [
      "100%|██████████████████████████████████████████████████████████████████████████████████████| 44998/44998 [00:00<00:00, 145256.75it/s]\n"
     ]
    }
   ],
   "source": [
    "all_edge_type_dict = {}\n",
    "for each_rst in tqdm(all_rst):\n",
    "    each_edge = each_rst[-1]\n",
    "    for k in each_edge:\n",
    "        if k not in all_edge_type_dict:\n",
    "            all_edge_type_dict[k] = 0\n",
    "        all_edge_type_dict[k] += each_edge[k]"
   ]
  },
  {
   "cell_type": "code",
   "execution_count": 54,
   "id": "42f65501",
   "metadata": {},
   "outputs": [
    {
     "data": {
      "text/plain": [
       "279.84141517400775"
      ]
     },
     "execution_count": 54,
     "metadata": {},
     "output_type": "execute_result"
    }
   ],
   "source": [
    "sum([e[0] for e in all_rst]) /len(all_rst)"
   ]
  },
  {
   "cell_type": "code",
   "execution_count": 52,
   "id": "17705c30",
   "metadata": {},
   "outputs": [
    {
     "data": {
      "text/plain": [
       "{'ast': 8671565,\n",
       " 'ast_reverse': 8671565,\n",
       " 'toSubtoken': 3875741,\n",
       " 'toSubtoken_reverse': 3875741,\n",
       " 'left_sibling_to_right': 4431095,\n",
       " 'right_sibling_to_left': 4431095,\n",
       " 'next_token': 3148368,\n",
       " 'last_token': 3148368}"
      ]
     },
     "execution_count": 52,
     "metadata": {},
     "output_type": "execute_result"
    }
   ],
   "source": [
    "all_edge_type_dict"
   ]
  },
  {
   "cell_type": "code",
   "execution_count": 53,
   "id": "c5cd8332",
   "metadata": {},
   "outputs": [
    {
     "data": {
      "text/plain": [
       "894.5628250144451"
      ]
     },
     "execution_count": 53,
     "metadata": {},
     "output_type": "execute_result"
    }
   ],
   "source": [
    "sum([e[1] for e in all_edge_type_dict.items()]) / len(all_rst)"
   ]
  },
  {
   "cell_type": "code",
   "execution_count": null,
   "id": "aa903339",
   "metadata": {},
   "outputs": [],
   "source": []
  },
  {
   "cell_type": "code",
   "execution_count": 37,
   "id": "2a7b359b",
   "metadata": {},
   "outputs": [
    {
     "data": {
      "text/plain": [
       "[0]"
      ]
     },
     "execution_count": 37,
     "metadata": {},
     "output_type": "execute_result"
    }
   ],
   "source": [
    "json.loads(tmp_data[0][1])[1][0] [1][0]"
   ]
  },
  {
   "cell_type": "code",
   "execution_count": null,
   "id": "c4282035",
   "metadata": {},
   "outputs": [],
   "source": []
  },
  {
   "cell_type": "code",
   "execution_count": 18,
   "id": "b40ad170",
   "metadata": {},
   "outputs": [
    {
     "name": "stdout",
     "output_type": "stream",
     "text": [
      "/home/zhangkechi/workspace/HGT-DGL/data/codenet/java/no_share_subtoken/step1/all_data.json \t 75000\n",
      "/home/zhangkechi/workspace/HGT-DGL/data/codenet/java/no_share_subtoken/step1/testset.json \t 15000\n",
      "/home/zhangkechi/workspace/HGT-DGL/data/codenet/java/no_share_subtoken/step1/trainset.json \t 45000\n",
      "/home/zhangkechi/workspace/HGT-DGL/data/codenet/java/no_share_subtoken/step1/devset.json \t 15000\n",
      "/home/zhangkechi/workspace/HGT-DGL/data/codenet/java/no_share_subtoken/step1/cls_dict.json \t 250\n"
     ]
    }
   ],
   "source": [
    "root_path = '/home/zhangkechi/workspace/HGT-DGL/data/codenet/java/no_share_subtoken/step1/'\n",
    "all_path = os.listdir(root_path)\n",
    "all_path = [os.path.join(root_path, e) for e in all_path]\n",
    "# all_path\n",
    "for each_f in all_path:\n",
    "    with open(each_f,'r') as f:\n",
    "        tmp_data = json.load(f)\n",
    "    print(each_f,'\\t',len(tmp_data))"
   ]
  },
  {
   "cell_type": "code",
   "execution_count": 19,
   "id": "57de3165",
   "metadata": {},
   "outputs": [
    {
     "ename": "KeyError",
     "evalue": "0",
     "output_type": "error",
     "traceback": [
      "\u001b[0;31m---------------------------------------------------------------------------\u001b[0m",
      "\u001b[0;31mKeyError\u001b[0m                                  Traceback (most recent call last)",
      "\u001b[0;32m/tmp/ipykernel_17202/2173858019.py\u001b[0m in \u001b[0;36m<module>\u001b[0;34m\u001b[0m\n\u001b[0;32m----> 1\u001b[0;31m \u001b[0mtmp_data\u001b[0m\u001b[0;34m[\u001b[0m\u001b[0;36m0\u001b[0m\u001b[0;34m]\u001b[0m\u001b[0;34m\u001b[0m\u001b[0;34m\u001b[0m\u001b[0m\n\u001b[0m",
      "\u001b[0;31mKeyError\u001b[0m: 0"
     ]
    }
   ],
   "source": [
    "tmp_data[0]"
   ]
  },
  {
   "cell_type": "code",
   "execution_count": null,
   "id": "c01814dd",
   "metadata": {},
   "outputs": [],
   "source": []
  }
 ],
 "metadata": {
  "kernelspec": {
   "display_name": "Python 3.7.11 64-bit ('pytorch': conda)",
   "language": "python",
   "name": "python3711jvsc74a57bd0e5cb36c27a0d4ecadf4264ed543b0108783966a4f237415897f949a48c88c22a"
  },
  "language_info": {
   "codemirror_mode": {
    "name": "ipython",
    "version": 3
   },
   "file_extension": ".py",
   "mimetype": "text/x-python",
   "name": "python",
   "nbconvert_exporter": "python",
   "pygments_lexer": "ipython3",
   "version": "3.7.11"
  }
 },
 "nbformat": 4,
 "nbformat_minor": 5
}
