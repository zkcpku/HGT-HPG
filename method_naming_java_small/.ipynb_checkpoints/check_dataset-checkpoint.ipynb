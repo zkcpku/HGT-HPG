{
 "cells": [
  {
   "cell_type": "code",
   "execution_count": 1,
   "metadata": {},
   "outputs": [],
   "source": [
    "import os\n",
    "import json"
   ]
  },
  {
   "cell_type": "code",
   "execution_count": 2,
   "metadata": {},
   "outputs": [],
   "source": [
    "import os\n",
    "import sys\n",
    "sys.path.append('/home/zhangkechi/workspace/HGT-DGL/')\n",
    "from utils.vocab import *\n",
    "import pickle"
   ]
  },
  {
   "cell_type": "code",
   "execution_count": 3,
   "metadata": {},
   "outputs": [
    {
     "data": {
      "text/plain": [
       "['dataset-1.json', 'dataset-0.json']"
      ]
     },
     "execution_count": 3,
     "metadata": {},
     "output_type": "execute_result"
    }
   ],
   "source": [
    "os.listdir('/home/zhangkechi/workspace/HGT-DGL/data/java-small/raw/train/')"
   ]
  },
  {
   "cell_type": "code",
   "execution_count": 4,
   "metadata": {},
   "outputs": [],
   "source": [
    "with open('/home/zhangkechi/workspace/HGT-DGL/data/java-small/step2/tgt_vocab.pkl','rb') as f:\n",
    "    tgt_vocab = pickle.load(f)"
   ]
  },
  {
   "cell_type": "code",
   "execution_count": 5,
   "metadata": {},
   "outputs": [
    {
     "data": {
      "text/plain": [
       "19655"
      ]
     },
     "execution_count": 5,
     "metadata": {},
     "output_type": "execute_result"
    }
   ],
   "source": [
    "len(tgt_vocab)"
   ]
  },
  {
   "cell_type": "code",
   "execution_count": 6,
   "metadata": {},
   "outputs": [
    {
     "data": {
      "text/plain": [
       "150000"
      ]
     },
     "execution_count": 6,
     "metadata": {},
     "output_type": "execute_result"
    }
   ],
   "source": [
    "with open('/home/zhangkechi/workspace/HGT-DGL/data/java-small/step2/src_vocab.pkl','rb') as f:\n",
    "    src_vocab = pickle.load(f)\n",
    "len(src_vocab)"
   ]
  },
  {
   "cell_type": "code",
   "execution_count": null,
   "metadata": {},
   "outputs": [],
   "source": [
    "with open('/home/zhangkechi/workspace/HGT-DGL/data/java-small/raw/train/dataset-1.json','r',encoding='gb18030') as f:\n",
    "    raw_data = json.load(f)\n",
    "with open('/home/zhangkechi/workspace/HGT-DGL/data/java-small/raw/train/dataset-0.json','r',encoding='gb18030') as f:\n",
    "    raw_data += json.load(f)"
   ]
  },
  {
   "cell_type": "code",
   "execution_count": null,
   "metadata": {},
   "outputs": [],
   "source": []
  },
  {
   "cell_type": "code",
   "execution_count": 5,
   "metadata": {},
   "outputs": [
    {
     "data": {
      "text/plain": [
       "691674"
      ]
     },
     "execution_count": 5,
     "metadata": {},
     "output_type": "execute_result"
    }
   ],
   "source": [
    "len(raw_data)"
   ]
  },
  {
   "cell_type": "code",
   "execution_count": 6,
   "metadata": {},
   "outputs": [
    {
     "name": "stdout",
     "output_type": "stream",
     "text": [
      "public void afterPropertiesSet() {\r\n",
      "    persistedModelLocalServiceRegistry.register(\"com.liferay.portal.model.LayoutSet\", layoutSetLocalService);\r\n",
      "}\n"
     ]
    }
   ],
   "source": [
    "print(raw_data[0]['code'])"
   ]
  },
  {
   "cell_type": "code",
   "execution_count": 7,
   "metadata": {},
   "outputs": [],
   "source": [
    "# with open('/home/zhangkechi/workspace/HGT-DGL/data/java-small/step1/train_0to149999.json','r',encoding='gb18030') as f:\n",
    "#     test_raw = json.load(f)"
   ]
  },
  {
   "cell_type": "code",
   "execution_count": 7,
   "metadata": {},
   "outputs": [],
   "source": [
    "with open('/home/zhangkechi/workspace/HGT-DGL/data/java-small/step1/train_150000to299999.json','r',encoding='gb18030') as f:\n",
    "    test_raw = json.load(f)"
   ]
  },
  {
   "cell_type": "code",
   "execution_count": 10,
   "metadata": {},
   "outputs": [
    {
     "name": "stdout",
     "output_type": "stream",
     "text": [
      "@Override\r\n",
      "public int compare(Constructor<?> c1, Constructor<?> c2) {\r\n",
      "    int c1pl = c1.getParameterTypes().length;\r\n",
      "    int c2pl = c2.getParameterTypes().length;\r\n",
      "    return (c1pl < c2pl ? -1 : (c1pl > c2pl ? 1 : 0));\r\n",
      "}\n"
     ]
    }
   ],
   "source": [
    "print(test_raw[0]['code'])"
   ]
  },
  {
   "cell_type": "code",
   "execution_count": 11,
   "metadata": {},
   "outputs": [
    {
     "name": "stderr",
     "output_type": "stream",
     "text": [
      "Using backend: pytorch[15:37:07] /opt/dgl/src/runtime/tensordispatch.cc:43: TensorDispatcher: dlopen failed: /home/zhangkechi/anaconda3/envs/pytorch/lib/python3.7/site-packages/dgl/tensoradapter/pytorch/libtensoradapter_pytorch_1.10.1.so: cannot open shared object file: No such file or directory\n",
      "\n"
     ]
    }
   ],
   "source": [
    "from process_data import *"
   ]
  },
  {
   "cell_type": "code",
   "execution_count": 17,
   "metadata": {},
   "outputs": [
    {
     "data": {
      "text/plain": [
       "{'code': '@Override\\r\\npublic DecimalFormatter getFormatter() {\\r\\n    return ApproximateDecimalFormatter.INSTANCE;\\r\\n}',\n",
       " 'name': ['get', 'formatter'],\n",
       " 'doc': '\\n\\t\\t * Indicates that Float and Double literal values should\\n\\t\\t * be treated using the SQL \"approximate\" format (i.e., \\'1E-3\\')\\n\\t\\t ',\n",
       " 'graph_dict': '[{\"all_node\": [{\"idx\": 0, \"name\": \"method_declaration\", \"type\": \"method_declaration\", \"toParentField\": \"ast\", \"parent_idx\": -1, \"sibling_idx\": 0}, {\"idx\": 1, \"name\": \"modifiers\", \"type\": \"modifiers\", \"toParentField\": \"ast\", \"parent_idx\": 0, \"sibling_idx\": 0}, {\"idx\": 2, \"name\": \"marker_annotation\", \"type\": \"marker_annotation\", \"toParentField\": \"ast\", \"parent_idx\": 1, \"sibling_idx\": 0}, {\"idx\": 3, \"name\": \"Override\", \"type\": \"identifier\", \"toParentField\": \"ast\", \"parent_idx\": 2, \"sibling_idx\": 0}, {\"idx\": 4, \"name\": \"override\", \"type\": \"subtoken\", \"toParentField\": \"toSubtoken\", \"parent_idx\": 3, \"sibling_idx\": 0, \"identifier_idx\": [3], \"subtoken_sibling_idx\": [0]}, {\"idx\": 5, \"name\": \"DecimalFormatter\", \"type\": \"type_identifier\", \"toParentField\": \"ast\", \"parent_idx\": 0, \"sibling_idx\": 1}, {\"idx\": 6, \"name\": \"decimal\", \"type\": \"subtoken\", \"toParentField\": \"toSubtoken\", \"parent_idx\": 5, \"sibling_idx\": 0, \"identifier_idx\": [5], \"subtoken_sibling_idx\": [0]}, {\"idx\": 7, \"name\": \"formatter\", \"type\": \"subtoken\", \"toParentField\": \"toSubtoken\", \"parent_idx\": 5, \"sibling_idx\": 1, \"identifier_idx\": [5], \"subtoken_sibling_idx\": [1]}, {\"idx\": 8, \"name\": \"NOTUSE\", \"type\": \"identifier\", \"toParentField\": \"ast\", \"parent_idx\": 0, \"sibling_idx\": 2}, {\"idx\": 9, \"name\": \"notuse\", \"type\": \"subtoken\", \"toParentField\": \"toSubtoken\", \"parent_idx\": 8, \"sibling_idx\": 0, \"identifier_idx\": [8], \"subtoken_sibling_idx\": [0]}, {\"idx\": 10, \"name\": \"()\", \"type\": \"formal_parameters\", \"toParentField\": \"ast\", \"parent_idx\": 0, \"sibling_idx\": 3}, {\"idx\": 11, \"name\": \"block\", \"type\": \"block\", \"toParentField\": \"ast\", \"parent_idx\": 0, \"sibling_idx\": 4}, {\"idx\": 12, \"name\": \"return_statement\", \"type\": \"return_statement\", \"toParentField\": \"ast\", \"parent_idx\": 11, \"sibling_idx\": 0}, {\"idx\": 13, \"name\": \"field_access\", \"type\": \"field_access\", \"toParentField\": \"ast\", \"parent_idx\": 12, \"sibling_idx\": 0}, {\"idx\": 14, \"name\": \"ApproximateDecimalFormatter\", \"type\": \"identifier\", \"toParentField\": \"ast\", \"parent_idx\": 13, \"sibling_idx\": 0}, {\"idx\": 15, \"name\": \"approximate\", \"type\": \"subtoken\", \"toParentField\": \"toSubtoken\", \"parent_idx\": 14, \"sibling_idx\": 0, \"identifier_idx\": [14], \"subtoken_sibling_idx\": [0]}, {\"idx\": 16, \"name\": \"decimal\", \"type\": \"subtoken\", \"toParentField\": \"toSubtoken\", \"parent_idx\": 14, \"sibling_idx\": 1, \"identifier_idx\": [14], \"subtoken_sibling_idx\": [1]}, {\"idx\": 17, \"name\": \"formatter\", \"type\": \"subtoken\", \"toParentField\": \"toSubtoken\", \"parent_idx\": 14, \"sibling_idx\": 2, \"identifier_idx\": [14], \"subtoken_sibling_idx\": [2]}, {\"idx\": 18, \"name\": \"INSTANCE\", \"type\": \"identifier\", \"toParentField\": \"ast\", \"parent_idx\": 13, \"sibling_idx\": 1}, {\"idx\": 19, \"name\": \"instance\", \"type\": \"subtoken\", \"toParentField\": \"toSubtoken\", \"parent_idx\": 18, \"sibling_idx\": 0, \"identifier_idx\": [18], \"subtoken_sibling_idx\": [0]}], \"identifier_node\": [3, 5, 8, 14, 18], \"subtoken_node\": [4, 6, 7, 9, 15, 16, 17, 19]}, [[[\"method_declaration\", \"ast\", \"modifiers\"], [[0], [0]]], [[\"modifiers\", \"ast_reverse\", \"method_declaration\"], [[0], [0]]], [[\"modifiers\", \"ast\", \"marker_annotation\"], [[0], [0]]], [[\"marker_annotation\", \"ast_reverse\", \"modifiers\"], [[0], [0]]], [[\"identifier\", \"toSubtoken\", \"subtoken\"], [[0, 1, 2, 2, 2, 3], [0, 3, 4, 5, 6, 7]]], [[\"subtoken\", \"toSubtoken_reverse\", \"identifier\"], [[0, 3, 4, 5, 6, 7], [0, 1, 2, 2, 2, 3]]], [[\"marker_annotation\", \"ast\", \"identifier\"], [[0], [0]]], [[\"identifier\", \"ast_reverse\", \"marker_annotation\"], [[0], [0]]], [[\"type_identifier\", \"toSubtoken\", \"subtoken\"], [[0, 0], [1, 2]]], [[\"subtoken\", \"toSubtoken_reverse\", \"type_identifier\"], [[1, 2], [0, 0]]], [[\"method_declaration\", \"ast\", \"type_identifier\"], [[0], [0]]], [[\"type_identifier\", \"ast_reverse\", \"method_declaration\"], [[0], [0]]], [[\"modifiers\", \"left_sibling_to_right\", \"type_identifier\"], [[0], [0]]], [[\"type_identifier\", \"right_sibling_to_left\", \"modifiers\"], [[0], [0]]], [[\"method_declaration\", \"ast\", \"identifier\"], [[0], [1]]], [[\"identifier\", \"ast_reverse\", \"method_declaration\"], [[1], [0]]], [[\"type_identifier\", \"left_sibling_to_right\", \"identifier\"], [[0], [1]]], [[\"identifier\", \"right_sibling_to_left\", \"type_identifier\"], [[1], [0]]], [[\"method_declaration\", \"ast\", \"formal_parameters\"], [[0], [0]]], [[\"formal_parameters\", \"ast_reverse\", \"method_declaration\"], [[0], [0]]], [[\"identifier\", \"left_sibling_to_right\", \"formal_parameters\"], [[1], [0]]], [[\"formal_parameters\", \"right_sibling_to_left\", \"identifier\"], [[0], [1]]], [[\"method_declaration\", \"ast\", \"block\"], [[0], [0]]], [[\"block\", \"ast_reverse\", \"method_declaration\"], [[0], [0]]], [[\"formal_parameters\", \"left_sibling_to_right\", \"block\"], [[0], [0]]], [[\"block\", \"right_sibling_to_left\", \"formal_parameters\"], [[0], [0]]], [[\"block\", \"ast\", \"return_statement\"], [[0], [0]]], [[\"return_statement\", \"ast_reverse\", \"block\"], [[0], [0]]], [[\"return_statement\", \"ast\", \"field_access\"], [[0], [0]]], [[\"field_access\", \"ast_reverse\", \"return_statement\"], [[0], [0]]], [[\"field_access\", \"ast\", \"identifier\"], [[0, 0], [2, 3]]], [[\"identifier\", \"ast_reverse\", \"field_access\"], [[2, 3], [0, 0]]], [[\"identifier\", \"left_sibling_to_right\", \"identifier\"], [[2], [3]]], [[\"identifier\", \"right_sibling_to_left\", \"identifier\"], [[3], [2]]], [[\"identifier\", \"next_token\", \"type_identifier\"], [[0], [0]]], [[\"type_identifier\", \"last_token\", \"identifier\"], [[0], [0]]], [[\"type_identifier\", \"next_token\", \"identifier\"], [[0], [1]]], [[\"identifier\", \"last_token\", \"type_identifier\"], [[1], [0]]], [[\"identifier\", \"next_token\", \"identifier\"], [[1, 2], [2, 3]]], [[\"identifier\", \"last_token\", \"identifier\"], [[2, 3], [1, 2]]]], {\"method_declaration\": [0], \"modifiers\": [1], \"marker_annotation\": [2], \"identifier\": [3, 8, 14, 18], \"subtoken\": [4, 6, 7, 9, 15, 16, 17, 19], \"type_identifier\": [5], \"formal_parameters\": [10], \"block\": [11], \"return_statement\": [12], \"field_access\": [13]}]'}"
      ]
     },
     "execution_count": 17,
     "metadata": {},
     "output_type": "execute_result"
    }
   ],
   "source": [
    "test_raw[-119]"
   ]
  },
  {
   "cell_type": "code",
   "execution_count": 15,
   "metadata": {},
   "outputs": [
    {
     "name": "stdout",
     "output_type": "stream",
     "text": [
      "-200 ['set', 'references']\n",
      "-199 ['equals']\n",
      "-198 ['hash', 'code']\n",
      "-197 ['to', 'string']\n",
      "-196 ['add', 'all']\n",
      "-195 ['get']\n",
      "-194 ['set']\n",
      "-193 ['add']\n",
      "-192 ['remove']\n",
      "-191 ['index', 'of']\n",
      "-190 ['last', 'index', 'of']\n",
      "-189 ['list', 'iterator']\n",
      "-188 ['list', 'iterator']\n",
      "-187 ['sub', 'list']\n",
      "-186 ['get', 'id']\n",
      "-185 ['set', 'id']\n",
      "-184 ['get', 'data']\n",
      "-183 ['set', 'data']\n",
      "-182 ['get', 'collection']\n",
      "-181 ['set', 'collection']\n",
      "-180 ['equals']\n",
      "-179 ['hash', 'code']\n",
      "-178 ['to', 'string']\n",
      "-177 ['get', 'id']\n",
      "-176 ['set', 'id']\n",
      "-175 ['get', 'data']\n",
      "-174 ['set', 'data']\n",
      "-173 ['get', 'reffering']\n",
      "-172 ['set', 'reffering']\n",
      "-171 ['equals']\n",
      "-170 ['hash', 'code']\n",
      "-169 ['to', 'string']\n",
      "-168 ['get', 'id']\n",
      "-167 ['set', 'id']\n",
      "-166 ['get', 'data']\n",
      "-165 ['set', 'data']\n",
      "-164 ['get', 'reference']\n",
      "-163 ['set', 'reference']\n",
      "-162 ['equals']\n",
      "-161 ['hash', 'code']\n",
      "-160 ['to', 'string']\n",
      "-159 ['instantiate']\n",
      "-158 ['get', 'returned', 'class']\n",
      "-157 ['wrap']\n",
      "-156 ['instantiate']\n",
      "-155 ['index', 'of']\n",
      "-154 ['get', 'id']\n",
      "-153 ['set', 'id']\n",
      "-152 ['get', 'data']\n",
      "-151 ['set', 'data']\n",
      "-150 ['get', 'references']\n",
      "-149 ['set', 'references']\n",
      "-148 ['equals']\n",
      "-147 ['hash', 'code']\n",
      "-146 ['to', 'string']\n",
      "-145 ['determine', 'class']\n",
      "-144 ['get', 'literal']\n",
      "-143 ['register', 'parameters']\n",
      "-142 ['render']\n",
      "-141 ['render', 'projection']\n",
      "-140 ['reset', 'java', 'type']\n",
      "-139 ['set', 'scalar', 'column', 'text']\n",
      "-138 ['get', 'data', 'type']\n",
      "-137 ['get', 'literal', 'value']\n",
      "-136 ['set', 'expected', 'type']\n",
      "-135 ['determine', 'converted', 'value']\n",
      "-134 ['is', 'character', 'data']\n",
      "-133 ['get', 'expected', 'type']\n",
      "-132 ['is', 'alias']\n",
      "-131 ['process', 'constant']\n",
      "-130 ['lookup', 'constant']\n",
      "-129 ['set', 'sql', 'value']\n",
      "-128 ['set', 'constant', 'value']\n",
      "-127 ['process', 'boolean']\n",
      "-126 ['process', 'literal']\n",
      "-125 ['process', 'numeric']\n",
      "-124 ['determine', 'integer', 'representation']\n",
      "-123 ['determine', 'decimal', 'representation']\n",
      "-122 ['format']\n",
      "-121 ['format']\n",
      "-120 ['get', 'formatter']\n",
      "-119 ['get', 'formatter']\n",
      "-118 ['is', 'really', 'alive']\n",
      "-117 ['set', 'really', 'alive']\n",
      "-116 ['non', 'persistent']\n",
      "-115 ['get', 'persistence', 'context']\n",
      "-114 ['get', 'session']\n",
      "-113 cleanup\n",
      "-112 ['cleanup']\n",
      "-111 hasLoadingCollectionEntries\n",
      "-110 ['has', 'registered', 'loading', 'collection', 'entries']\n",
      "-109 ['get', 'collection', 'load', 'context']\n",
      "-108 ['locate', 'loading', 'collection']\n",
      "-107 registerLoadingCollectionXRef\n",
      "-106 ['unregister', 'loading', 'collection', 'x', 'ref']\n",
      "-105 ['get', 'loading', 'collection', 'x', 'refs']\n",
      "-104 ['locate', 'loading', 'collection', 'entry']\n",
      "-103 ['cleanup', 'collection', 'x', 'refs']\n",
      "-102 getEntityLoadContext\n",
      "-101 ['get', 'session', 'factory', 'name']\n"
     ]
    }
   ],
   "source": [
    "for i in range(-200,-100):\n",
    "    print(i,test_raw[i]['name'])"
   ]
  },
  {
   "cell_type": "code",
   "execution_count": 9,
   "metadata": {},
   "outputs": [
    {
     "name": "stdout",
     "output_type": "stream",
     "text": [
      "number of word types: 5950, number of word types w/ frequency > 1: 4318\n",
      "number of singletons: 1632\n",
      "number of word types not included: 0\n"
     ]
    }
   ],
   "source": [
    "tst_vocab = VocabEntry.from_corpus([e['name'] for e in test_raw],size=10000)"
   ]
  },
  {
   "cell_type": "code",
   "execution_count": 10,
   "metadata": {
    "scrolled": true
   },
   "outputs": [
    {
     "data": {
      "text/plain": [
       "5954"
      ]
     },
     "execution_count": 10,
     "metadata": {},
     "output_type": "execute_result"
    }
   ],
   "source": [
    "len(tst_vocab)"
   ]
  },
  {
   "cell_type": "code",
   "execution_count": null,
   "metadata": {},
   "outputs": [],
   "source": []
  }
 ],
 "metadata": {
  "interpreter": {
   "hash": "e5cb36c27a0d4ecadf4264ed543b0108783966a4f237415897f949a48c88c22a"
  },
  "kernelspec": {
   "display_name": "Python 3 (ipykernel)",
   "language": "python",
   "name": "python3"
  },
  "language_info": {
   "codemirror_mode": {
    "name": "ipython",
    "version": 3
   },
   "file_extension": ".py",
   "mimetype": "text/x-python",
   "name": "python",
   "nbconvert_exporter": "python",
   "pygments_lexer": "ipython3",
   "version": "3.7.11"
  }
 },
 "nbformat": 4,
 "nbformat_minor": 2
}
